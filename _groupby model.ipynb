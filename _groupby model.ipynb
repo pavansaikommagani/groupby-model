{
 "cells": [
  {
   "cell_type": "code",
   "execution_count": 1,
   "id": "1f65e537",
   "metadata": {},
   "outputs": [],
   "source": [
    "import pandas as pd\n"
   ]
  },
  {
   "cell_type": "code",
   "execution_count": 2,
   "id": "9ba90bea",
   "metadata": {},
   "outputs": [],
   "source": [
    "import numpy as np"
   ]
  },
  {
   "cell_type": "code",
   "execution_count": 3,
   "id": "9f93a181",
   "metadata": {},
   "outputs": [],
   "source": [
    "df = pd.read_excel(r\"C:\\Users\\pavan\\OneDrive\\Documents\\salesdata.xlsx\")"
   ]
  },
  {
   "cell_type": "code",
   "execution_count": 4,
   "id": "b4610082",
   "metadata": {},
   "outputs": [
    {
     "name": "stdout",
     "output_type": "stream",
     "text": [
      "<class 'pandas.core.frame.DataFrame'>\n",
      "RangeIndex: 1999 entries, 0 to 1998\n",
      "Data columns (total 7 columns):\n",
      " #   Column     Non-Null Count  Dtype         \n",
      "---  ------     --------------  -----         \n",
      " 0   Date       1999 non-null   datetime64[ns]\n",
      " 1   Region     1999 non-null   object        \n",
      " 2   Sales Rep  1999 non-null   object        \n",
      " 3   Customer   1999 non-null   object        \n",
      " 4   Product    1999 non-null   object        \n",
      " 5   COGS       1999 non-null   float64       \n",
      " 6   Sales      1999 non-null   float64       \n",
      "dtypes: datetime64[ns](1), float64(2), object(4)\n",
      "memory usage: 109.4+ KB\n"
     ]
    }
   ],
   "source": [
    "df.info()"
   ]
  },
  {
   "cell_type": "code",
   "execution_count": 5,
   "id": "1e2dfaaa",
   "metadata": {},
   "outputs": [
    {
     "data": {
      "text/plain": [
       "Index(['Date', 'Region', 'Sales Rep', 'Customer', 'Product', 'COGS', 'Sales'], dtype='object')"
      ]
     },
     "execution_count": 5,
     "metadata": {},
     "output_type": "execute_result"
    }
   ],
   "source": [
    "df.columns"
   ]
  },
  {
   "cell_type": "code",
   "execution_count": 6,
   "id": "bd7db214",
   "metadata": {},
   "outputs": [
    {
     "data": {
      "text/html": [
       "<div>\n",
       "<style scoped>\n",
       "    .dataframe tbody tr th:only-of-type {\n",
       "        vertical-align: middle;\n",
       "    }\n",
       "\n",
       "    .dataframe tbody tr th {\n",
       "        vertical-align: top;\n",
       "    }\n",
       "\n",
       "    .dataframe thead th {\n",
       "        text-align: right;\n",
       "    }\n",
       "</style>\n",
       "<table border=\"1\" class=\"dataframe\">\n",
       "  <thead>\n",
       "    <tr style=\"text-align: right;\">\n",
       "      <th></th>\n",
       "      <th>Date</th>\n",
       "      <th>COGS</th>\n",
       "      <th>Sales</th>\n",
       "    </tr>\n",
       "  </thead>\n",
       "  <tbody>\n",
       "    <tr>\n",
       "      <th>count</th>\n",
       "      <td>1999</td>\n",
       "      <td>1999.000000</td>\n",
       "      <td>1999.000000</td>\n",
       "    </tr>\n",
       "    <tr>\n",
       "      <th>mean</th>\n",
       "      <td>2005-06-17 22:06:54.207103488</td>\n",
       "      <td>3148.949353</td>\n",
       "      <td>5041.272721</td>\n",
       "    </tr>\n",
       "    <tr>\n",
       "      <th>min</th>\n",
       "      <td>2004-06-17 00:00:00</td>\n",
       "      <td>7.410400</td>\n",
       "      <td>12.560000</td>\n",
       "    </tr>\n",
       "    <tr>\n",
       "      <th>25%</th>\n",
       "      <td>2004-12-21 00:00:00</td>\n",
       "      <td>1456.424750</td>\n",
       "      <td>2557.620000</td>\n",
       "    </tr>\n",
       "    <tr>\n",
       "      <th>50%</th>\n",
       "      <td>2005-06-19 00:00:00</td>\n",
       "      <td>2963.233800</td>\n",
       "      <td>4976.420000</td>\n",
       "    </tr>\n",
       "    <tr>\n",
       "      <th>75%</th>\n",
       "      <td>2005-12-21 00:00:00</td>\n",
       "      <td>4456.441000</td>\n",
       "      <td>7526.840000</td>\n",
       "    </tr>\n",
       "    <tr>\n",
       "      <th>max</th>\n",
       "      <td>2006-06-16 00:00:00</td>\n",
       "      <td>9318.958000</td>\n",
       "      <td>9994.240000</td>\n",
       "    </tr>\n",
       "    <tr>\n",
       "      <th>std</th>\n",
       "      <td>NaN</td>\n",
       "      <td>2057.604330</td>\n",
       "      <td>2875.600841</td>\n",
       "    </tr>\n",
       "  </tbody>\n",
       "</table>\n",
       "</div>"
      ],
      "text/plain": [
       "                                Date         COGS        Sales\n",
       "count                           1999  1999.000000  1999.000000\n",
       "mean   2005-06-17 22:06:54.207103488  3148.949353  5041.272721\n",
       "min              2004-06-17 00:00:00     7.410400    12.560000\n",
       "25%              2004-12-21 00:00:00  1456.424750  2557.620000\n",
       "50%              2005-06-19 00:00:00  2963.233800  4976.420000\n",
       "75%              2005-12-21 00:00:00  4456.441000  7526.840000\n",
       "max              2006-06-16 00:00:00  9318.958000  9994.240000\n",
       "std                              NaN  2057.604330  2875.600841"
      ]
     },
     "execution_count": 6,
     "metadata": {},
     "output_type": "execute_result"
    }
   ],
   "source": [
    "df.describe()\n",
    "# descriptive statistcs"
   ]
  },
  {
   "cell_type": "code",
   "execution_count": 7,
   "id": "e49910cf",
   "metadata": {},
   "outputs": [
    {
     "data": {
      "text/html": [
       "<div>\n",
       "<style scoped>\n",
       "    .dataframe tbody tr th:only-of-type {\n",
       "        vertical-align: middle;\n",
       "    }\n",
       "\n",
       "    .dataframe tbody tr th {\n",
       "        vertical-align: top;\n",
       "    }\n",
       "\n",
       "    .dataframe thead th {\n",
       "        text-align: right;\n",
       "    }\n",
       "</style>\n",
       "<table border=\"1\" class=\"dataframe\">\n",
       "  <thead>\n",
       "    <tr style=\"text-align: right;\">\n",
       "      <th></th>\n",
       "      <th>Date</th>\n",
       "      <th>Region</th>\n",
       "      <th>Sales Rep</th>\n",
       "      <th>Customer</th>\n",
       "      <th>Product</th>\n",
       "      <th>COGS</th>\n",
       "      <th>Sales</th>\n",
       "    </tr>\n",
       "  </thead>\n",
       "  <tbody>\n",
       "    <tr>\n",
       "      <th>0</th>\n",
       "      <td>2004-06-17</td>\n",
       "      <td>MidWest</td>\n",
       "      <td>Harry</td>\n",
       "      <td>ExcelIsVeryFun.com</td>\n",
       "      <td>MWN Item</td>\n",
       "      <td>6305.0008</td>\n",
       "      <td>9272.06</td>\n",
       "    </tr>\n",
       "    <tr>\n",
       "      <th>1</th>\n",
       "      <td>2004-06-17</td>\n",
       "      <td>East</td>\n",
       "      <td>Harry</td>\n",
       "      <td>Office Depot</td>\n",
       "      <td>MBP Item</td>\n",
       "      <td>5773.2000</td>\n",
       "      <td>8490.00</td>\n",
       "    </tr>\n",
       "    <tr>\n",
       "      <th>2</th>\n",
       "      <td>2004-06-17</td>\n",
       "      <td>South</td>\n",
       "      <td>Harry</td>\n",
       "      <td>ExcelIsVeryFun.com</td>\n",
       "      <td>KVM Item</td>\n",
       "      <td>8271.4896</td>\n",
       "      <td>9399.42</td>\n",
       "    </tr>\n",
       "    <tr>\n",
       "      <th>3</th>\n",
       "      <td>2004-06-17</td>\n",
       "      <td>West</td>\n",
       "      <td>Jon</td>\n",
       "      <td>Sherman Williams</td>\n",
       "      <td>UBU Item</td>\n",
       "      <td>4919.6028</td>\n",
       "      <td>7234.71</td>\n",
       "    </tr>\n",
       "    <tr>\n",
       "      <th>4</th>\n",
       "      <td>2004-06-17</td>\n",
       "      <td>North</td>\n",
       "      <td>Harry</td>\n",
       "      <td>Whole Foods</td>\n",
       "      <td>HES Item</td>\n",
       "      <td>5838.1500</td>\n",
       "      <td>7784.20</td>\n",
       "    </tr>\n",
       "    <tr>\n",
       "      <th>5</th>\n",
       "      <td>2004-06-17</td>\n",
       "      <td>East</td>\n",
       "      <td>Luke</td>\n",
       "      <td>Solar and Wind Inc.</td>\n",
       "      <td>UQS Item</td>\n",
       "      <td>998.0263</td>\n",
       "      <td>1691.57</td>\n",
       "    </tr>\n",
       "    <tr>\n",
       "      <th>6</th>\n",
       "      <td>2004-06-17</td>\n",
       "      <td>East</td>\n",
       "      <td>Steven</td>\n",
       "      <td>Whole Foods</td>\n",
       "      <td>TPR Item</td>\n",
       "      <td>2181.2400</td>\n",
       "      <td>4847.20</td>\n",
       "    </tr>\n",
       "    <tr>\n",
       "      <th>7</th>\n",
       "      <td>2004-06-17</td>\n",
       "      <td>West</td>\n",
       "      <td>James</td>\n",
       "      <td>Costco</td>\n",
       "      <td>XHX Item</td>\n",
       "      <td>4577.7274</td>\n",
       "      <td>7758.86</td>\n",
       "    </tr>\n",
       "    <tr>\n",
       "      <th>8</th>\n",
       "      <td>2004-06-18</td>\n",
       "      <td>West</td>\n",
       "      <td>Steven</td>\n",
       "      <td>McLendon's Hardware</td>\n",
       "      <td>SQC Item</td>\n",
       "      <td>3852.5265</td>\n",
       "      <td>8561.17</td>\n",
       "    </tr>\n",
       "    <tr>\n",
       "      <th>9</th>\n",
       "      <td>2004-06-19</td>\n",
       "      <td>East</td>\n",
       "      <td>Luke</td>\n",
       "      <td>Amazon.com</td>\n",
       "      <td>IRH Item</td>\n",
       "      <td>3623.9411</td>\n",
       "      <td>8427.77</td>\n",
       "    </tr>\n",
       "  </tbody>\n",
       "</table>\n",
       "</div>"
      ],
      "text/plain": [
       "        Date   Region Sales Rep             Customer   Product       COGS  \\\n",
       "0 2004-06-17  MidWest     Harry   ExcelIsVeryFun.com  MWN Item  6305.0008   \n",
       "1 2004-06-17     East     Harry         Office Depot  MBP Item  5773.2000   \n",
       "2 2004-06-17    South     Harry   ExcelIsVeryFun.com  KVM Item  8271.4896   \n",
       "3 2004-06-17     West       Jon     Sherman Williams  UBU Item  4919.6028   \n",
       "4 2004-06-17    North     Harry          Whole Foods  HES Item  5838.1500   \n",
       "5 2004-06-17     East      Luke  Solar and Wind Inc.  UQS Item   998.0263   \n",
       "6 2004-06-17     East    Steven          Whole Foods  TPR Item  2181.2400   \n",
       "7 2004-06-17     West     James               Costco  XHX Item  4577.7274   \n",
       "8 2004-06-18     West    Steven  McLendon's Hardware  SQC Item  3852.5265   \n",
       "9 2004-06-19     East      Luke           Amazon.com  IRH Item  3623.9411   \n",
       "\n",
       "     Sales  \n",
       "0  9272.06  \n",
       "1  8490.00  \n",
       "2  9399.42  \n",
       "3  7234.71  \n",
       "4  7784.20  \n",
       "5  1691.57  \n",
       "6  4847.20  \n",
       "7  7758.86  \n",
       "8  8561.17  \n",
       "9  8427.77  "
      ]
     },
     "execution_count": 7,
     "metadata": {},
     "output_type": "execute_result"
    }
   ],
   "source": [
    "df.head(10)"
   ]
  },
  {
   "cell_type": "code",
   "execution_count": 8,
   "id": "9bd22435",
   "metadata": {},
   "outputs": [
    {
     "data": {
      "text/html": [
       "<div>\n",
       "<style scoped>\n",
       "    .dataframe tbody tr th:only-of-type {\n",
       "        vertical-align: middle;\n",
       "    }\n",
       "\n",
       "    .dataframe tbody tr th {\n",
       "        vertical-align: top;\n",
       "    }\n",
       "\n",
       "    .dataframe thead th {\n",
       "        text-align: right;\n",
       "    }\n",
       "</style>\n",
       "<table border=\"1\" class=\"dataframe\">\n",
       "  <thead>\n",
       "    <tr style=\"text-align: right;\">\n",
       "      <th></th>\n",
       "      <th>Date</th>\n",
       "      <th>Region</th>\n",
       "      <th>Sales Rep</th>\n",
       "      <th>Customer</th>\n",
       "      <th>Product</th>\n",
       "      <th>COGS</th>\n",
       "      <th>Sales</th>\n",
       "    </tr>\n",
       "  </thead>\n",
       "  <tbody>\n",
       "    <tr>\n",
       "      <th>1989</th>\n",
       "      <td>2006-06-12</td>\n",
       "      <td>South</td>\n",
       "      <td>Sherry</td>\n",
       "      <td>ExcelIsVeryFun.com</td>\n",
       "      <td>DQI Item</td>\n",
       "      <td>3786.4940</td>\n",
       "      <td>8805.80</td>\n",
       "    </tr>\n",
       "    <tr>\n",
       "      <th>1990</th>\n",
       "      <td>2006-06-13</td>\n",
       "      <td>West</td>\n",
       "      <td>Harry</td>\n",
       "      <td>Nature Company</td>\n",
       "      <td>OZR Item</td>\n",
       "      <td>2187.7136</td>\n",
       "      <td>3771.92</td>\n",
       "    </tr>\n",
       "    <tr>\n",
       "      <th>1991</th>\n",
       "      <td>2006-06-14</td>\n",
       "      <td>East</td>\n",
       "      <td>James</td>\n",
       "      <td>Costco</td>\n",
       "      <td>ZET Item</td>\n",
       "      <td>2065.1130</td>\n",
       "      <td>4589.14</td>\n",
       "    </tr>\n",
       "    <tr>\n",
       "      <th>1992</th>\n",
       "      <td>2006-06-14</td>\n",
       "      <td>North</td>\n",
       "      <td>Sherry</td>\n",
       "      <td>Google</td>\n",
       "      <td>QGH Item</td>\n",
       "      <td>1233.0680</td>\n",
       "      <td>2867.60</td>\n",
       "    </tr>\n",
       "    <tr>\n",
       "      <th>1993</th>\n",
       "      <td>2006-06-14</td>\n",
       "      <td>East</td>\n",
       "      <td>Tom</td>\n",
       "      <td>Sherman Williams</td>\n",
       "      <td>LZB Item</td>\n",
       "      <td>2553.2776</td>\n",
       "      <td>3754.82</td>\n",
       "    </tr>\n",
       "    <tr>\n",
       "      <th>1994</th>\n",
       "      <td>2006-06-14</td>\n",
       "      <td>East</td>\n",
       "      <td>Steven</td>\n",
       "      <td>Peet's Coffee</td>\n",
       "      <td>EJL Item</td>\n",
       "      <td>2315.4340</td>\n",
       "      <td>3405.05</td>\n",
       "    </tr>\n",
       "    <tr>\n",
       "      <th>1995</th>\n",
       "      <td>2006-06-15</td>\n",
       "      <td>North</td>\n",
       "      <td>Harry</td>\n",
       "      <td>Amazon.com</td>\n",
       "      <td>ZON Item</td>\n",
       "      <td>5406.2703</td>\n",
       "      <td>9163.17</td>\n",
       "    </tr>\n",
       "    <tr>\n",
       "      <th>1996</th>\n",
       "      <td>2006-06-15</td>\n",
       "      <td>East</td>\n",
       "      <td>Jon</td>\n",
       "      <td>Amazon.com</td>\n",
       "      <td>ZET Item</td>\n",
       "      <td>6971.4975</td>\n",
       "      <td>9295.33</td>\n",
       "    </tr>\n",
       "    <tr>\n",
       "      <th>1997</th>\n",
       "      <td>2006-06-15</td>\n",
       "      <td>North</td>\n",
       "      <td>Harry</td>\n",
       "      <td>Solar and Wind Inc.</td>\n",
       "      <td>JFA Item</td>\n",
       "      <td>736.2520</td>\n",
       "      <td>836.65</td>\n",
       "    </tr>\n",
       "    <tr>\n",
       "      <th>1998</th>\n",
       "      <td>2006-06-16</td>\n",
       "      <td>East</td>\n",
       "      <td>Jon</td>\n",
       "      <td>Google</td>\n",
       "      <td>QJV Item</td>\n",
       "      <td>1835.8972</td>\n",
       "      <td>3165.34</td>\n",
       "    </tr>\n",
       "  </tbody>\n",
       "</table>\n",
       "</div>"
      ],
      "text/plain": [
       "           Date Region Sales Rep             Customer   Product       COGS  \\\n",
       "1989 2006-06-12  South    Sherry   ExcelIsVeryFun.com  DQI Item  3786.4940   \n",
       "1990 2006-06-13   West     Harry       Nature Company  OZR Item  2187.7136   \n",
       "1991 2006-06-14   East     James               Costco  ZET Item  2065.1130   \n",
       "1992 2006-06-14  North    Sherry               Google  QGH Item  1233.0680   \n",
       "1993 2006-06-14   East       Tom     Sherman Williams  LZB Item  2553.2776   \n",
       "1994 2006-06-14   East    Steven        Peet's Coffee  EJL Item  2315.4340   \n",
       "1995 2006-06-15  North     Harry           Amazon.com  ZON Item  5406.2703   \n",
       "1996 2006-06-15   East       Jon           Amazon.com  ZET Item  6971.4975   \n",
       "1997 2006-06-15  North     Harry  Solar and Wind Inc.  JFA Item   736.2520   \n",
       "1998 2006-06-16   East       Jon               Google  QJV Item  1835.8972   \n",
       "\n",
       "        Sales  \n",
       "1989  8805.80  \n",
       "1990  3771.92  \n",
       "1991  4589.14  \n",
       "1992  2867.60  \n",
       "1993  3754.82  \n",
       "1994  3405.05  \n",
       "1995  9163.17  \n",
       "1996  9295.33  \n",
       "1997   836.65  \n",
       "1998  3165.34  "
      ]
     },
     "execution_count": 8,
     "metadata": {},
     "output_type": "execute_result"
    }
   ],
   "source": [
    "df.tail(10)"
   ]
  },
  {
   "cell_type": "code",
   "execution_count": 9,
   "id": "41d5b516",
   "metadata": {},
   "outputs": [
    {
     "data": {
      "text/html": [
       "<div>\n",
       "<style scoped>\n",
       "    .dataframe tbody tr th:only-of-type {\n",
       "        vertical-align: middle;\n",
       "    }\n",
       "\n",
       "    .dataframe tbody tr th {\n",
       "        vertical-align: top;\n",
       "    }\n",
       "\n",
       "    .dataframe thead th {\n",
       "        text-align: right;\n",
       "    }\n",
       "</style>\n",
       "<table border=\"1\" class=\"dataframe\">\n",
       "  <thead>\n",
       "    <tr style=\"text-align: right;\">\n",
       "      <th></th>\n",
       "      <th>Date</th>\n",
       "      <th>Region</th>\n",
       "      <th>Sales Rep</th>\n",
       "      <th>Customer</th>\n",
       "      <th>Product</th>\n",
       "      <th>COGS</th>\n",
       "      <th>Sales</th>\n",
       "    </tr>\n",
       "  </thead>\n",
       "  <tbody>\n",
       "    <tr>\n",
       "      <th>count</th>\n",
       "      <td>1999</td>\n",
       "      <td>1999</td>\n",
       "      <td>1999</td>\n",
       "      <td>1999</td>\n",
       "      <td>1999</td>\n",
       "      <td>1999.000000</td>\n",
       "      <td>1999.000000</td>\n",
       "    </tr>\n",
       "    <tr>\n",
       "      <th>unique</th>\n",
       "      <td>NaN</td>\n",
       "      <td>5</td>\n",
       "      <td>8</td>\n",
       "      <td>14</td>\n",
       "      <td>1882</td>\n",
       "      <td>NaN</td>\n",
       "      <td>NaN</td>\n",
       "    </tr>\n",
       "    <tr>\n",
       "      <th>top</th>\n",
       "      <td>NaN</td>\n",
       "      <td>East</td>\n",
       "      <td>Harry</td>\n",
       "      <td>Sherman Williams</td>\n",
       "      <td>RAR Item</td>\n",
       "      <td>NaN</td>\n",
       "      <td>NaN</td>\n",
       "    </tr>\n",
       "    <tr>\n",
       "      <th>freq</th>\n",
       "      <td>NaN</td>\n",
       "      <td>688</td>\n",
       "      <td>277</td>\n",
       "      <td>156</td>\n",
       "      <td>3</td>\n",
       "      <td>NaN</td>\n",
       "      <td>NaN</td>\n",
       "    </tr>\n",
       "    <tr>\n",
       "      <th>mean</th>\n",
       "      <td>2005-06-17 22:06:54.207103488</td>\n",
       "      <td>NaN</td>\n",
       "      <td>NaN</td>\n",
       "      <td>NaN</td>\n",
       "      <td>NaN</td>\n",
       "      <td>3148.949353</td>\n",
       "      <td>5041.272721</td>\n",
       "    </tr>\n",
       "    <tr>\n",
       "      <th>min</th>\n",
       "      <td>2004-06-17 00:00:00</td>\n",
       "      <td>NaN</td>\n",
       "      <td>NaN</td>\n",
       "      <td>NaN</td>\n",
       "      <td>NaN</td>\n",
       "      <td>7.410400</td>\n",
       "      <td>12.560000</td>\n",
       "    </tr>\n",
       "    <tr>\n",
       "      <th>25%</th>\n",
       "      <td>2004-12-21 00:00:00</td>\n",
       "      <td>NaN</td>\n",
       "      <td>NaN</td>\n",
       "      <td>NaN</td>\n",
       "      <td>NaN</td>\n",
       "      <td>1456.424750</td>\n",
       "      <td>2557.620000</td>\n",
       "    </tr>\n",
       "    <tr>\n",
       "      <th>50%</th>\n",
       "      <td>2005-06-19 00:00:00</td>\n",
       "      <td>NaN</td>\n",
       "      <td>NaN</td>\n",
       "      <td>NaN</td>\n",
       "      <td>NaN</td>\n",
       "      <td>2963.233800</td>\n",
       "      <td>4976.420000</td>\n",
       "    </tr>\n",
       "    <tr>\n",
       "      <th>75%</th>\n",
       "      <td>2005-12-21 00:00:00</td>\n",
       "      <td>NaN</td>\n",
       "      <td>NaN</td>\n",
       "      <td>NaN</td>\n",
       "      <td>NaN</td>\n",
       "      <td>4456.441000</td>\n",
       "      <td>7526.840000</td>\n",
       "    </tr>\n",
       "    <tr>\n",
       "      <th>max</th>\n",
       "      <td>2006-06-16 00:00:00</td>\n",
       "      <td>NaN</td>\n",
       "      <td>NaN</td>\n",
       "      <td>NaN</td>\n",
       "      <td>NaN</td>\n",
       "      <td>9318.958000</td>\n",
       "      <td>9994.240000</td>\n",
       "    </tr>\n",
       "    <tr>\n",
       "      <th>std</th>\n",
       "      <td>NaN</td>\n",
       "      <td>NaN</td>\n",
       "      <td>NaN</td>\n",
       "      <td>NaN</td>\n",
       "      <td>NaN</td>\n",
       "      <td>2057.604330</td>\n",
       "      <td>2875.600841</td>\n",
       "    </tr>\n",
       "  </tbody>\n",
       "</table>\n",
       "</div>"
      ],
      "text/plain": [
       "                                 Date Region Sales Rep          Customer  \\\n",
       "count                            1999   1999      1999              1999   \n",
       "unique                            NaN      5         8                14   \n",
       "top                               NaN   East     Harry  Sherman Williams   \n",
       "freq                              NaN    688       277               156   \n",
       "mean    2005-06-17 22:06:54.207103488    NaN       NaN               NaN   \n",
       "min               2004-06-17 00:00:00    NaN       NaN               NaN   \n",
       "25%               2004-12-21 00:00:00    NaN       NaN               NaN   \n",
       "50%               2005-06-19 00:00:00    NaN       NaN               NaN   \n",
       "75%               2005-12-21 00:00:00    NaN       NaN               NaN   \n",
       "max               2006-06-16 00:00:00    NaN       NaN               NaN   \n",
       "std                               NaN    NaN       NaN               NaN   \n",
       "\n",
       "         Product         COGS        Sales  \n",
       "count       1999  1999.000000  1999.000000  \n",
       "unique      1882          NaN          NaN  \n",
       "top     RAR Item          NaN          NaN  \n",
       "freq           3          NaN          NaN  \n",
       "mean         NaN  3148.949353  5041.272721  \n",
       "min          NaN     7.410400    12.560000  \n",
       "25%          NaN  1456.424750  2557.620000  \n",
       "50%          NaN  2963.233800  4976.420000  \n",
       "75%          NaN  4456.441000  7526.840000  \n",
       "max          NaN  9318.958000  9994.240000  \n",
       "std          NaN  2057.604330  2875.600841  "
      ]
     },
     "execution_count": 9,
     "metadata": {},
     "output_type": "execute_result"
    }
   ],
   "source": [
    "df.describe(include = 'all')"
   ]
  },
  {
   "cell_type": "code",
   "execution_count": 10,
   "id": "c4b0e27a",
   "metadata": {},
   "outputs": [
    {
     "data": {
      "text/html": [
       "<div>\n",
       "<style scoped>\n",
       "    .dataframe tbody tr th:only-of-type {\n",
       "        vertical-align: middle;\n",
       "    }\n",
       "\n",
       "    .dataframe tbody tr th {\n",
       "        vertical-align: top;\n",
       "    }\n",
       "\n",
       "    .dataframe thead th {\n",
       "        text-align: right;\n",
       "    }\n",
       "</style>\n",
       "<table border=\"1\" class=\"dataframe\">\n",
       "  <thead>\n",
       "    <tr style=\"text-align: right;\">\n",
       "      <th></th>\n",
       "      <th>COGS</th>\n",
       "      <th>Sales</th>\n",
       "    </tr>\n",
       "    <tr>\n",
       "      <th>Region</th>\n",
       "      <th></th>\n",
       "      <th></th>\n",
       "    </tr>\n",
       "  </thead>\n",
       "  <tbody>\n",
       "    <tr>\n",
       "      <th>East</th>\n",
       "      <td>2.114630e+06</td>\n",
       "      <td>3426489.59</td>\n",
       "    </tr>\n",
       "    <tr>\n",
       "      <th>North</th>\n",
       "      <td>1.063589e+06</td>\n",
       "      <td>1723421.38</td>\n",
       "    </tr>\n",
       "    <tr>\n",
       "      <th>South</th>\n",
       "      <td>1.044143e+06</td>\n",
       "      <td>1706418.14</td>\n",
       "    </tr>\n",
       "    <tr>\n",
       "      <th>MidWest</th>\n",
       "      <td>1.064639e+06</td>\n",
       "      <td>1651501.56</td>\n",
       "    </tr>\n",
       "    <tr>\n",
       "      <th>West</th>\n",
       "      <td>1.007750e+06</td>\n",
       "      <td>1569673.50</td>\n",
       "    </tr>\n",
       "  </tbody>\n",
       "</table>\n",
       "</div>"
      ],
      "text/plain": [
       "                 COGS       Sales\n",
       "Region                           \n",
       "East     2.114630e+06  3426489.59\n",
       "North    1.063589e+06  1723421.38\n",
       "South    1.044143e+06  1706418.14\n",
       "MidWest  1.064639e+06  1651501.56\n",
       "West     1.007750e+06  1569673.50"
      ]
     },
     "execution_count": 10,
     "metadata": {},
     "output_type": "execute_result"
    }
   ],
   "source": [
    "a = df.groupby(by = 'Region')\n",
    "a.sum('Sales').sort_values('Sales',ascending = False)"
   ]
  },
  {
   "cell_type": "code",
   "execution_count": 11,
   "id": "68b1eeaf",
   "metadata": {},
   "outputs": [
    {
     "data": {
      "text/plain": [
       "Region\n",
       "East       3426489.59\n",
       "North      1723421.38\n",
       "South      1706418.14\n",
       "MidWest    1651501.56\n",
       "West       1569673.50\n",
       "Name: Sales, dtype: float64"
      ]
     },
     "execution_count": 11,
     "metadata": {},
     "output_type": "execute_result"
    }
   ],
   "source": [
    "df.groupby(['Region'])['Sales'].sum().sort_values(ascending = False)"
   ]
  },
  {
   "cell_type": "code",
   "execution_count": 12,
   "id": "f54263bf",
   "metadata": {},
   "outputs": [
    {
     "data": {
      "text/html": [
       "<div>\n",
       "<style scoped>\n",
       "    .dataframe tbody tr th:only-of-type {\n",
       "        vertical-align: middle;\n",
       "    }\n",
       "\n",
       "    .dataframe tbody tr th {\n",
       "        vertical-align: top;\n",
       "    }\n",
       "\n",
       "    .dataframe thead th {\n",
       "        text-align: right;\n",
       "    }\n",
       "</style>\n",
       "<table border=\"1\" class=\"dataframe\">\n",
       "  <thead>\n",
       "    <tr style=\"text-align: right;\">\n",
       "      <th></th>\n",
       "      <th>Sales</th>\n",
       "      <th>COGS</th>\n",
       "    </tr>\n",
       "    <tr>\n",
       "      <th>Region</th>\n",
       "      <th></th>\n",
       "      <th></th>\n",
       "    </tr>\n",
       "  </thead>\n",
       "  <tbody>\n",
       "    <tr>\n",
       "      <th>East</th>\n",
       "      <td>688</td>\n",
       "      <td>688</td>\n",
       "    </tr>\n",
       "    <tr>\n",
       "      <th>MidWest</th>\n",
       "      <td>314</td>\n",
       "      <td>314</td>\n",
       "    </tr>\n",
       "    <tr>\n",
       "      <th>North</th>\n",
       "      <td>342</td>\n",
       "      <td>342</td>\n",
       "    </tr>\n",
       "    <tr>\n",
       "      <th>South</th>\n",
       "      <td>335</td>\n",
       "      <td>335</td>\n",
       "    </tr>\n",
       "    <tr>\n",
       "      <th>West</th>\n",
       "      <td>320</td>\n",
       "      <td>320</td>\n",
       "    </tr>\n",
       "  </tbody>\n",
       "</table>\n",
       "</div>"
      ],
      "text/plain": [
       "         Sales  COGS\n",
       "Region              \n",
       "East       688   688\n",
       "MidWest    314   314\n",
       "North      342   342\n",
       "South      335   335\n",
       "West       320   320"
      ]
     },
     "execution_count": 12,
     "metadata": {},
     "output_type": "execute_result"
    }
   ],
   "source": [
    "df.groupby(['Region'])[['Sales','COGS']].count()"
   ]
  },
  {
   "cell_type": "code",
   "execution_count": 13,
   "id": "70af8783",
   "metadata": {},
   "outputs": [
    {
     "data": {
      "text/html": [
       "<div>\n",
       "<style scoped>\n",
       "    .dataframe tbody tr th:only-of-type {\n",
       "        vertical-align: middle;\n",
       "    }\n",
       "\n",
       "    .dataframe tbody tr th {\n",
       "        vertical-align: top;\n",
       "    }\n",
       "\n",
       "    .dataframe thead th {\n",
       "        text-align: right;\n",
       "    }\n",
       "</style>\n",
       "<table border=\"1\" class=\"dataframe\">\n",
       "  <thead>\n",
       "    <tr style=\"text-align: right;\">\n",
       "      <th></th>\n",
       "      <th>Sales</th>\n",
       "      <th>COGS</th>\n",
       "    </tr>\n",
       "    <tr>\n",
       "      <th>Region</th>\n",
       "      <th></th>\n",
       "      <th></th>\n",
       "    </tr>\n",
       "  </thead>\n",
       "  <tbody>\n",
       "    <tr>\n",
       "      <th>East</th>\n",
       "      <td>4980.362776</td>\n",
       "      <td>3073.589504</td>\n",
       "    </tr>\n",
       "    <tr>\n",
       "      <th>MidWest</th>\n",
       "      <td>5259.559108</td>\n",
       "      <td>3390.568526</td>\n",
       "    </tr>\n",
       "    <tr>\n",
       "      <th>North</th>\n",
       "      <td>5039.243801</td>\n",
       "      <td>3109.908385</td>\n",
       "    </tr>\n",
       "    <tr>\n",
       "      <th>South</th>\n",
       "      <td>5093.785493</td>\n",
       "      <td>3116.845563</td>\n",
       "    </tr>\n",
       "    <tr>\n",
       "      <th>West</th>\n",
       "      <td>4905.229688</td>\n",
       "      <td>3149.217907</td>\n",
       "    </tr>\n",
       "  </tbody>\n",
       "</table>\n",
       "</div>"
      ],
      "text/plain": [
       "               Sales         COGS\n",
       "Region                           \n",
       "East     4980.362776  3073.589504\n",
       "MidWest  5259.559108  3390.568526\n",
       "North    5039.243801  3109.908385\n",
       "South    5093.785493  3116.845563\n",
       "West     4905.229688  3149.217907"
      ]
     },
     "execution_count": 13,
     "metadata": {},
     "output_type": "execute_result"
    }
   ],
   "source": [
    "df.groupby(['Region'])[['Sales','COGS']].mean()"
   ]
  },
  {
   "cell_type": "code",
   "execution_count": 14,
   "id": "685c8af2",
   "metadata": {},
   "outputs": [
    {
     "data": {
      "text/html": [
       "<div>\n",
       "<style scoped>\n",
       "    .dataframe tbody tr th:only-of-type {\n",
       "        vertical-align: middle;\n",
       "    }\n",
       "\n",
       "    .dataframe tbody tr th {\n",
       "        vertical-align: top;\n",
       "    }\n",
       "\n",
       "    .dataframe thead th {\n",
       "        text-align: right;\n",
       "    }\n",
       "</style>\n",
       "<table border=\"1\" class=\"dataframe\">\n",
       "  <thead>\n",
       "    <tr style=\"text-align: right;\">\n",
       "      <th></th>\n",
       "      <th>Sales</th>\n",
       "      <th>COGS</th>\n",
       "    </tr>\n",
       "    <tr>\n",
       "      <th>Region</th>\n",
       "      <th></th>\n",
       "      <th></th>\n",
       "    </tr>\n",
       "  </thead>\n",
       "  <tbody>\n",
       "    <tr>\n",
       "      <th>East</th>\n",
       "      <td>4980.36</td>\n",
       "      <td>3073.59</td>\n",
       "    </tr>\n",
       "    <tr>\n",
       "      <th>MidWest</th>\n",
       "      <td>5259.56</td>\n",
       "      <td>3390.57</td>\n",
       "    </tr>\n",
       "    <tr>\n",
       "      <th>North</th>\n",
       "      <td>5039.24</td>\n",
       "      <td>3109.91</td>\n",
       "    </tr>\n",
       "    <tr>\n",
       "      <th>South</th>\n",
       "      <td>5093.79</td>\n",
       "      <td>3116.85</td>\n",
       "    </tr>\n",
       "    <tr>\n",
       "      <th>West</th>\n",
       "      <td>4905.23</td>\n",
       "      <td>3149.22</td>\n",
       "    </tr>\n",
       "  </tbody>\n",
       "</table>\n",
       "</div>"
      ],
      "text/plain": [
       "           Sales     COGS\n",
       "Region                   \n",
       "East     4980.36  3073.59\n",
       "MidWest  5259.56  3390.57\n",
       "North    5039.24  3109.91\n",
       "South    5093.79  3116.85\n",
       "West     4905.23  3149.22"
      ]
     },
     "execution_count": 14,
     "metadata": {},
     "output_type": "execute_result"
    }
   ],
   "source": [
    "df.groupby(['Region'])[['Sales','COGS']].mean().round(2)"
   ]
  },
  {
   "cell_type": "code",
   "execution_count": 15,
   "id": "3ae041d4",
   "metadata": {},
   "outputs": [
    {
     "data": {
      "text/plain": [
       "Region   Sales Rep\n",
       "East     Harry        5291.75\n",
       "         James        4820.84\n",
       "         Jon          4524.26\n",
       "         Luke         4909.05\n",
       "         Rhonda       5026.00\n",
       "         Sherry       5475.47\n",
       "         Steven       4863.30\n",
       "         Tom          4814.02\n",
       "MidWest  Harry        5060.97\n",
       "         James        4603.66\n",
       "         Jon          5794.47\n",
       "         Luke         6036.71\n",
       "         Rhonda       4821.38\n",
       "         Sherry       5299.01\n",
       "         Steven       4881.61\n",
       "         Tom          5817.45\n",
       "North    Harry        5321.18\n",
       "         James        4503.66\n",
       "         Jon          5234.04\n",
       "         Luke         4957.15\n",
       "         Rhonda       4915.80\n",
       "         Sherry       4614.01\n",
       "         Steven       5683.27\n",
       "         Tom          5067.62\n",
       "South    Harry        5055.53\n",
       "         James        5476.92\n",
       "         Jon          5503.68\n",
       "         Luke         5133.88\n",
       "         Rhonda       5035.07\n",
       "         Sherry       4714.17\n",
       "         Steven       5121.23\n",
       "         Tom          4744.38\n",
       "West     Harry        4363.89\n",
       "         James        5192.33\n",
       "         Jon          4690.80\n",
       "         Luke         4668.82\n",
       "         Rhonda       5293.77\n",
       "         Sherry       5100.27\n",
       "         Steven       5561.42\n",
       "         Tom          4376.98\n",
       "Name: Sales, dtype: float64"
      ]
     },
     "execution_count": 15,
     "metadata": {},
     "output_type": "execute_result"
    }
   ],
   "source": [
    "df.groupby(['Region','Sales Rep'])['Sales'].mean().round(2)"
   ]
  },
  {
   "cell_type": "code",
   "execution_count": 16,
   "id": "ac89e935",
   "metadata": {},
   "outputs": [
    {
     "data": {
      "text/plain": [
       "Region   Sales Rep\n",
       "MidWest  Luke         6036.71\n",
       "         Tom          5817.45\n",
       "         Jon          5794.47\n",
       "North    Steven       5683.27\n",
       "West     Steven       5561.42\n",
       "South    Jon          5503.68\n",
       "         James        5476.92\n",
       "East     Sherry       5475.47\n",
       "North    Harry        5321.18\n",
       "MidWest  Sherry       5299.01\n",
       "West     Rhonda       5293.77\n",
       "East     Harry        5291.75\n",
       "North    Jon          5234.04\n",
       "West     James        5192.33\n",
       "South    Luke         5133.88\n",
       "         Steven       5121.23\n",
       "West     Sherry       5100.27\n",
       "North    Tom          5067.62\n",
       "MidWest  Harry        5060.97\n",
       "South    Harry        5055.53\n",
       "         Rhonda       5035.07\n",
       "East     Rhonda       5026.00\n",
       "North    Luke         4957.15\n",
       "         Rhonda       4915.80\n",
       "East     Luke         4909.05\n",
       "MidWest  Steven       4881.61\n",
       "East     Steven       4863.30\n",
       "MidWest  Rhonda       4821.38\n",
       "East     James        4820.84\n",
       "         Tom          4814.02\n",
       "South    Tom          4744.38\n",
       "         Sherry       4714.17\n",
       "West     Jon          4690.80\n",
       "         Luke         4668.82\n",
       "North    Sherry       4614.01\n",
       "MidWest  James        4603.66\n",
       "East     Jon          4524.26\n",
       "North    James        4503.66\n",
       "West     Tom          4376.98\n",
       "         Harry        4363.89\n",
       "Name: Sales, dtype: float64"
      ]
     },
     "execution_count": 16,
     "metadata": {},
     "output_type": "execute_result"
    }
   ],
   "source": [
    "df.groupby(['Region','Sales Rep'])['Sales'].mean().sort_values(ascending = False).round(2)"
   ]
  },
  {
   "cell_type": "code",
   "execution_count": 17,
   "id": "71bbb239",
   "metadata": {},
   "outputs": [
    {
     "data": {
      "text/plain": [
       "Region   Sales Rep\n",
       "MidWest  Luke         6036.71\n",
       "         Tom          5817.45\n",
       "         Jon          5794.47\n",
       "North    Steven       5683.27\n",
       "West     Steven       5561.42\n",
       "Name: Sales, dtype: float64"
      ]
     },
     "execution_count": 17,
     "metadata": {},
     "output_type": "execute_result"
    }
   ],
   "source": [
    "df.groupby(['Region','Sales Rep'])['Sales'].mean().round(2).nlargest()"
   ]
  },
  {
   "cell_type": "code",
   "execution_count": 18,
   "id": "00953063",
   "metadata": {},
   "outputs": [],
   "source": [
    "import seaborn as sns\n",
    "import matplotlib.pyplot as plt"
   ]
  },
  {
   "cell_type": "code",
   "execution_count": 19,
   "id": "b1b7037a",
   "metadata": {},
   "outputs": [
    {
     "data": {
      "text/plain": [
       "<Axes: xlabel='Sales Rep', ylabel='Sales'>"
      ]
     },
     "execution_count": 19,
     "metadata": {},
     "output_type": "execute_result"
    },
    {
     "data": {
      "image/png": "[encoded data removed]",
      "text/plain": [
       "<Figure size 640x480 with 1 Axes>"
      ]
     },
     "metadata": {},
     "output_type": "display_data"
    }
   ],
   "source": [
    "sns.barplot(y = 'Sales', x = 'Sales Rep',hue = 'Region',data=df)"
   ]
  },
  {
   "cell_type": "code",
   "execution_count": 20,
   "id": "fbda127f",
   "metadata": {},
   "outputs": [
    {
     "data": {
      "text/plain": [
       "<Axes: xlabel='Region', ylabel='Sales'>"
      ]
     },
     "execution_count": 20,
     "metadata": {},
     "output_type": "execute_result"
    },
    {
     "data": {
      "image/png": "[encoded data removed]",
      "text/plain": [
       "<Figure size 1500x1000 with 1 Axes>"
      ]
     },
     "metadata": {},
     "output_type": "display_data"
    }
   ],
   "source": [
    "figs, axs = plt.subplots(figsize = (15,10))\n",
    "sns.barplot(x = 'Region',\n",
    "           y = 'Sales',\n",
    "           hue = 'Sales Rep',\n",
    "           data = df.groupby(['Region','Sales Rep'],as_index = False)['Sales'].mean())"
   ]
  },
  {
   "cell_type": "code",
   "execution_count": 21,
   "id": "12748851",
   "metadata": {},
   "outputs": [
    {
     "data": {
      "text/plain": [
       "<Axes: xlabel='Sales Rep', ylabel='Sales'>"
      ]
     },
     "execution_count": 21,
     "metadata": {},
     "output_type": "execute_result"
    },
    {
     "data": {
      "image/png": "[encoded data removed]",
      "text/plain": [
       "<Figure size 1500x1000 with 1 Axes>"
      ]
     },
     "metadata": {},
     "output_type": "display_data"
    }
   ],
   "source": [
    "figs, axs = plt.subplots(figsize = (15,10))\n",
    "sns.barplot(x = 'Sales Rep',\n",
    "           y = 'Sales',\n",
    "           hue = 'Region',\n",
    "           data = df.groupby(['Region','Sales Rep'],as_index = False)['Sales'].mean())"
   ]
  },
  {
   "cell_type": "code",
   "execution_count": 22,
   "id": "3c7f2f78",
   "metadata": {},
   "outputs": [
    {
     "data": {
      "text/plain": [
       "<Axes: xlabel='Sales Rep', ylabel='Sales'>"
      ]
     },
     "execution_count": 22,
     "metadata": {},
     "output_type": "execute_result"
    },
    {
     "data": {
      "image/png": "[encoded data removed]",
      "text/plain": [
       "<Figure size 640x480 with 1 Axes>"
      ]
     },
     "metadata": {},
     "output_type": "display_data"
    }
   ],
   "source": [
    "sns.barplot(x = 'Sales Rep',y = 'Sales', data = df,estimator = sum)"
   ]
  },
  {
   "cell_type": "code",
   "execution_count": 23,
   "id": "823d8e46",
   "metadata": {},
   "outputs": [
    {
     "data": {
      "text/plain": [
       "<Axes: xlabel='Region', ylabel='Sales'>"
      ]
     },
     "execution_count": 23,
     "metadata": {},
     "output_type": "execute_result"
    },
    {
     "data": {
      "image/png": "[encoded data removed]",
      "text/plain": [
       "<Figure size 640x480 with 1 Axes>"
      ]
     },
     "metadata": {},
     "output_type": "display_data"
    }
   ],
   "source": [
    "sns.barplot(x = 'Region',y = 'Sales', data = df,estimator = sum)"
   ]
  },
  {
   "cell_type": "code",
   "execution_count": 24,
   "id": "a64395ef",
   "metadata": {},
   "outputs": [
    {
     "data": {
      "text/plain": [
       "Sales Rep\n",
       "Harry     1409540.88\n",
       "James     1312633.25\n",
       "Jon       1276210.40\n",
       "Luke      1182348.62\n",
       "Rhonda    1103441.88\n",
       "Sherry    1220931.66\n",
       "Steven    1296157.22\n",
       "Tom       1276240.26\n",
       "Name: Sales, dtype: float64"
      ]
     },
     "execution_count": 24,
     "metadata": {},
     "output_type": "execute_result"
    }
   ],
   "source": [
    "df.groupby(['Sales Rep'])['Sales'].sum()"
   ]
  },
  {
   "cell_type": "code",
   "execution_count": 25,
   "id": "e8b0f6da",
   "metadata": {},
   "outputs": [
    {
     "data": {
      "text/plain": [
       "Sales Rep\n",
       "Harry     5088.595235\n",
       "James     4879.677509\n",
       "Jon       5084.503586\n",
       "Luke      5074.457597\n",
       "Rhonda    5015.644909\n",
       "Sherry    5151.610380\n",
       "Steven    5123.151067\n",
       "Tom       4927.568571\n",
       "Name: Sales, dtype: float64"
      ]
     },
     "execution_count": 25,
     "metadata": {},
     "output_type": "execute_result"
    }
   ],
   "source": [
    "df.groupby(['Sales Rep'])['Sales'].mean()"
   ]
  },
  {
   "cell_type": "code",
   "execution_count": 26,
   "id": "83f084ab",
   "metadata": {},
   "outputs": [
    {
     "data": {
      "text/plain": [
       "Sales Rep\n",
       "Harry     277\n",
       "James     269\n",
       "Tom       259\n",
       "Steven    253\n",
       "Jon       251\n",
       "Sherry    237\n",
       "Luke      233\n",
       "Rhonda    220\n",
       "Name: Product, dtype: int64"
      ]
     },
     "execution_count": 26,
     "metadata": {},
     "output_type": "execute_result"
    }
   ],
   "source": [
    "df.groupby(['Sales Rep'])['Product'].count().sort_values(ascending = False)"
   ]
  },
  {
   "cell_type": "code",
   "execution_count": 27,
   "id": "578e5725",
   "metadata": {},
   "outputs": [
    {
     "data": {
      "text/plain": [
       "Sales Rep  Region \n",
       "Harry      East       5291.745870\n",
       "           MidWest    5060.973265\n",
       "           North      5321.175625\n",
       "           South      5055.530392\n",
       "           West       4363.894324\n",
       "James      East       4820.842955\n",
       "           MidWest    4603.660222\n",
       "           North      4503.661020\n",
       "           South      5476.923871\n",
       "           West       5192.327321\n",
       "Jon        East       4524.255000\n",
       "           MidWest    5794.474750\n",
       "           North      5234.038302\n",
       "           South      5503.677447\n",
       "           West       4690.801892\n",
       "Luke       East       4909.052794\n",
       "           MidWest    6036.709091\n",
       "           North      4957.148571\n",
       "           South      5133.875778\n",
       "           West       4668.821778\n",
       "Rhonda     East       5026.004875\n",
       "           MidWest    4821.384500\n",
       "           North      4915.795000\n",
       "           South      5035.068710\n",
       "           West       5293.770000\n",
       "Sherry     East       5475.471474\n",
       "           MidWest    5299.012000\n",
       "           North      4614.007353\n",
       "           South      4714.169722\n",
       "           West       5100.272703\n",
       "Steven     East       4863.301845\n",
       "           MidWest    4881.611176\n",
       "           North      5683.269167\n",
       "           South      5121.228696\n",
       "           West       5561.415882\n",
       "Tom        East       4814.023409\n",
       "           MidWest    5817.452368\n",
       "           North      5067.615652\n",
       "           South      4744.384167\n",
       "           West       4376.980769\n",
       "Name: Sales, dtype: float64"
      ]
     },
     "execution_count": 27,
     "metadata": {},
     "output_type": "execute_result"
    }
   ],
   "source": [
    "df.groupby(['Sales Rep','Region'])['Sales'].mean()"
   ]
  },
  {
   "cell_type": "code",
   "execution_count": 28,
   "id": "57f05f8f",
   "metadata": {},
   "outputs": [
    {
     "data": {
      "text/plain": [
       "Sales Rep  Region \n",
       "Harry      East       486840.62\n",
       "           MidWest    247987.69\n",
       "           North      255416.43\n",
       "           South      257832.05\n",
       "           West       161464.09\n",
       "James      East       424234.18\n",
       "           MidWest    207164.71\n",
       "           North      220679.39\n",
       "           South      169784.64\n",
       "           West       290770.33\n",
       "Jon        East       334794.87\n",
       "           MidWest    231778.99\n",
       "           North      277404.03\n",
       "           South      258672.84\n",
       "           West       173559.67\n",
       "Luke       East       333815.59\n",
       "           MidWest    199211.40\n",
       "           North      208200.24\n",
       "           South      231024.41\n",
       "           West       210096.98\n",
       "Rhonda     East       402080.39\n",
       "           MidWest    192855.38\n",
       "           North      167137.03\n",
       "           South      156087.13\n",
       "           West       185281.95\n",
       "Sherry     East       520169.79\n",
       "           MidWest    185465.42\n",
       "           North      156876.25\n",
       "           South      169710.11\n",
       "           West       188710.09\n",
       "Steven     East       500920.09\n",
       "           MidWest    165974.78\n",
       "           North      204597.69\n",
       "           South      235576.52\n",
       "           West       189088.14\n",
       "Tom        East       423634.06\n",
       "           MidWest    221063.19\n",
       "           North      233110.32\n",
       "           South      227730.44\n",
       "           West       170702.25\n",
       "Name: Sales, dtype: float64"
      ]
     },
     "execution_count": 28,
     "metadata": {},
     "output_type": "execute_result"
    }
   ],
   "source": [
    "df.groupby(['Sales Rep','Region'])['Sales'].sum()"
   ]
  },
  {
   "cell_type": "code",
   "execution_count": 29,
   "id": "8da27b50",
   "metadata": {},
   "outputs": [],
   "source": [
    "df['Sales_bin']= pd.cut(df['Sales'],bins = 4 , labels = (1,2,3,4))"
   ]
  },
  {
   "cell_type": "code",
   "execution_count": 30,
   "id": "0132e6b6",
   "metadata": {},
   "outputs": [
    {
     "data": {
      "text/html": [
       "<div>\n",
       "<style scoped>\n",
       "    .dataframe tbody tr th:only-of-type {\n",
       "        vertical-align: middle;\n",
       "    }\n",
       "\n",
       "    .dataframe tbody tr th {\n",
       "        vertical-align: top;\n",
       "    }\n",
       "\n",
       "    .dataframe thead th {\n",
       "        text-align: right;\n",
       "    }\n",
       "</style>\n",
       "<table border=\"1\" class=\"dataframe\">\n",
       "  <thead>\n",
       "    <tr style=\"text-align: right;\">\n",
       "      <th></th>\n",
       "      <th>Date</th>\n",
       "      <th>Region</th>\n",
       "      <th>Sales Rep</th>\n",
       "      <th>Customer</th>\n",
       "      <th>Product</th>\n",
       "      <th>COGS</th>\n",
       "      <th>Sales</th>\n",
       "      <th>Sales_bin</th>\n",
       "    </tr>\n",
       "  </thead>\n",
       "  <tbody>\n",
       "    <tr>\n",
       "      <th>0</th>\n",
       "      <td>2004-06-17</td>\n",
       "      <td>MidWest</td>\n",
       "      <td>Harry</td>\n",
       "      <td>ExcelIsVeryFun.com</td>\n",
       "      <td>MWN Item</td>\n",
       "      <td>6305.0008</td>\n",
       "      <td>9272.06</td>\n",
       "      <td>4</td>\n",
       "    </tr>\n",
       "    <tr>\n",
       "      <th>1</th>\n",
       "      <td>2004-06-17</td>\n",
       "      <td>East</td>\n",
       "      <td>Harry</td>\n",
       "      <td>Office Depot</td>\n",
       "      <td>MBP Item</td>\n",
       "      <td>5773.2000</td>\n",
       "      <td>8490.00</td>\n",
       "      <td>4</td>\n",
       "    </tr>\n",
       "    <tr>\n",
       "      <th>2</th>\n",
       "      <td>2004-06-17</td>\n",
       "      <td>South</td>\n",
       "      <td>Harry</td>\n",
       "      <td>ExcelIsVeryFun.com</td>\n",
       "      <td>KVM Item</td>\n",
       "      <td>8271.4896</td>\n",
       "      <td>9399.42</td>\n",
       "      <td>4</td>\n",
       "    </tr>\n",
       "    <tr>\n",
       "      <th>3</th>\n",
       "      <td>2004-06-17</td>\n",
       "      <td>West</td>\n",
       "      <td>Jon</td>\n",
       "      <td>Sherman Williams</td>\n",
       "      <td>UBU Item</td>\n",
       "      <td>4919.6028</td>\n",
       "      <td>7234.71</td>\n",
       "      <td>3</td>\n",
       "    </tr>\n",
       "    <tr>\n",
       "      <th>4</th>\n",
       "      <td>2004-06-17</td>\n",
       "      <td>North</td>\n",
       "      <td>Harry</td>\n",
       "      <td>Whole Foods</td>\n",
       "      <td>HES Item</td>\n",
       "      <td>5838.1500</td>\n",
       "      <td>7784.20</td>\n",
       "      <td>4</td>\n",
       "    </tr>\n",
       "  </tbody>\n",
       "</table>\n",
       "</div>"
      ],
      "text/plain": [
       "        Date   Region Sales Rep            Customer   Product       COGS  \\\n",
       "0 2004-06-17  MidWest     Harry  ExcelIsVeryFun.com  MWN Item  6305.0008   \n",
       "1 2004-06-17     East     Harry        Office Depot  MBP Item  5773.2000   \n",
       "2 2004-06-17    South     Harry  ExcelIsVeryFun.com  KVM Item  8271.4896   \n",
       "3 2004-06-17     West       Jon    Sherman Williams  UBU Item  4919.6028   \n",
       "4 2004-06-17    North     Harry         Whole Foods  HES Item  5838.1500   \n",
       "\n",
       "     Sales Sales_bin  \n",
       "0  9272.06         4  \n",
       "1  8490.00         4  \n",
       "2  9399.42         4  \n",
       "3  7234.71         3  \n",
       "4  7784.20         4  "
      ]
     },
     "execution_count": 30,
     "metadata": {},
     "output_type": "execute_result"
    }
   ],
   "source": [
    "df.head()"
   ]
  },
  {
   "cell_type": "code",
   "execution_count": 38,
   "id": "7708f809",
   "metadata": {},
   "outputs": [
    {
     "name": "stderr",
     "output_type": "stream",
     "text": [
      "C:\\Users\\pavan\\AppData\\Local\\Temp\\ipykernel_10012\\883371468.py:2: FutureWarning: \n",
      "\n",
      "The `ci` parameter is deprecated. Use `errorbar=None` for the same effect.\n",
      "\n",
      "  sns.barplot(x = 'Sales Rep',\n"
     ]
    },
    {
     "data": {
      "text/plain": [
       "<Axes: xlabel='Sales Rep', ylabel='count'>"
      ]
     },
     "execution_count": 38,
     "metadata": {},
     "output_type": "execute_result"
    },
    {
     "data": {
      "image/png": "[encoded data removed]",
      "text/plain": [
       "<Figure size 1500x1000 with 1 Axes>"
      ]
     },
     "metadata": {},
     "output_type": "display_data"
    }
   ],
   "source": [
    "fig, ax = plt.subplots(figsize=(15, 10))\n",
    "sns.barplot(x = 'Sales Rep',\n",
    "        y = 'count',\n",
    "        hue = 'Region',\n",
    "        ci= None,\n",
    "        data =df.groupby(['Sales Rep','Region','Sales_bin'], as_index = False)['Sales_bin'].value_counts())"
   ]
  },
  {
   "cell_type": "code",
   "execution_count": 36,
   "id": "388a287f",
   "metadata": {},
   "outputs": [
    {
     "name": "stderr",
     "output_type": "stream",
     "text": [
      "C:\\Users\\pavan\\AppData\\Local\\Temp\\ipykernel_10012\\883371468.py:2: FutureWarning: \n",
      "\n",
      "The `ci` parameter is deprecated. Use `errorbar=None` for the same effect.\n",
      "\n",
      "  sns.barplot(x = 'Sales Rep',\n"
     ]
    },
    {
     "data": {
      "text/plain": [
       "<Axes: xlabel='Sales Rep', ylabel='count'>"
      ]
     },
     "execution_count": 36,
     "metadata": {},
     "output_type": "execute_result"
    },
    {
     "data": {
      "image/png": "[encoded data removed]",
      "text/plain": [
       "<Figure size 1500x1000 with 1 Axes>"
      ]
     },
     "metadata": {},
     "output_type": "display_data"
    }
   ],
   "source": [
    "fig, ax = plt.subplots(figsize=(15, 10))\n",
    "sns.barplot(x = 'Sales Rep',\n",
    "        y = 'count',\n",
    "        hue = 'Region',\n",
    "        ci= None,\n",
    "        data =df.groupby(['Sales Rep','Region','Sales_bin'], as_index = False)['Sales_bin'].value_counts())"
   ]
  },
  {
   "cell_type": "code",
   "execution_count": null,
   "id": "8c8c6720",
   "metadata": {},
   "outputs": [],
   "source": []
  }
 ],
 "metadata": {
  "kernelspec": {
   "display_name": "Python 3 (ipykernel)",
   "language": "python",
   "name": "python3"
  },
  "language_info": {
   "codemirror_mode": {
    "name": "ipython",
    "version": 3
   },
   "file_extension": ".py",
   "mimetype": "text/x-python",
   "name": "python",
   "nbconvert_exporter": "python",
   "pygments_lexer": "ipython3",
   "version": "3.11.3"
  }
 },
 "nbformat": 4,
 "nbformat_minor": 5
}
